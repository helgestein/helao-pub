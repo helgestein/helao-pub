{
 "cells": [
  {
   "cell_type": "code",
   "execution_count": 3,
   "id": "964fd311-6514-47be-9ea0-c3c400cd68af",
   "metadata": {},
   "outputs": [
    {
     "name": "stdout",
     "output_type": "stream",
     "text": [
      "Defaulting to user installation because normal site-packages is not writeable\n",
      "Collecting websockets\n",
      "  Downloading websockets-12.0-cp311-cp311-win_amd64.whl.metadata (6.8 kB)\n",
      "Downloading websockets-12.0-cp311-cp311-win_amd64.whl (124 kB)\n",
      "   ---------------------------------------- 0.0/125.0 kB ? eta -:--:--\n",
      "   --------- ------------------------------ 30.7/125.0 kB 1.4 MB/s eta 0:00:01\n",
      "   ---------------------------------------- 125.0/125.0 kB 2.4 MB/s eta 0:00:00\n",
      "Installing collected packages: websockets\n",
      "Successfully installed websockets-12.0\n"
     ]
    }
   ],
   "source": [
    "!pip install websockets"
   ]
  },
  {
   "cell_type": "code",
   "execution_count": 23,
   "id": "75249fba",
   "metadata": {},
   "outputs": [],
   "source": [
    "#one day i may move the functionality to start and monitor servers into this document, \n",
    "# but for now, start up everything with helao_interface.py before using this code\n",
    "import requests\n",
    "import json\n",
    "from matplotlib import pyplot\n",
    "#url = \"http://192.168.31.114:13380\"\n",
    "url = \"http://127.0.0.1:13390\"\n",
    "import time\n",
    "import ipywidgets\n",
    "import numpy\n",
    "import pickle\n",
    "import asyncio\n",
    "import websockets\n",
    "sub_data = [] #holds data sent to the notebook by the orchestrator"
   ]
  },
  {
   "cell_type": "code",
   "execution_count": 26,
   "id": "386aa8bf-5ad8-4943-a41d-8bd3ac8f36b3",
   "metadata": {},
   "outputs": [
    {
     "name": "stdout",
     "output_type": "stream",
     "text": [
      "1718626280.9081514\n"
     ]
    },
    {
     "ename": "ConnectionClosedError",
     "evalue": "sent 1011 (internal error) keepalive ping timeout; no close frame received",
     "output_type": "error",
     "traceback": [
      "\u001b[1;31m---------------------------------------------------------------------------\u001b[0m",
      "\u001b[1;31mCancelledError\u001b[0m                            Traceback (most recent call last)",
      "File \u001b[1;32m~\\AppData\\Roaming\\Python\\Python311\\site-packages\\websockets\\legacy\\protocol.py:1301\u001b[0m, in \u001b[0;36mWebSocketCommonProtocol.close_connection\u001b[1;34m(self)\u001b[0m\n\u001b[0;32m   1300\u001b[0m \u001b[38;5;28;01mtry\u001b[39;00m:\n\u001b[1;32m-> 1301\u001b[0m     \u001b[38;5;28;01mawait\u001b[39;00m \u001b[38;5;28mself\u001b[39m\u001b[38;5;241m.\u001b[39mtransfer_data_task\n\u001b[0;32m   1302\u001b[0m \u001b[38;5;28;01mexcept\u001b[39;00m asyncio\u001b[38;5;241m.\u001b[39mCancelledError:\n",
      "File \u001b[1;32m~\\AppData\\Roaming\\Python\\Python311\\site-packages\\websockets\\legacy\\protocol.py:963\u001b[0m, in \u001b[0;36mWebSocketCommonProtocol.transfer_data\u001b[1;34m(self)\u001b[0m\n\u001b[0;32m    962\u001b[0m \u001b[38;5;28;01mwhile\u001b[39;00m \u001b[38;5;28;01mTrue\u001b[39;00m:\n\u001b[1;32m--> 963\u001b[0m     message \u001b[38;5;241m=\u001b[39m \u001b[38;5;28;01mawait\u001b[39;00m \u001b[38;5;28mself\u001b[39m\u001b[38;5;241m.\u001b[39mread_message()\n\u001b[0;32m    965\u001b[0m     \u001b[38;5;66;03m# Exit the loop when receiving a close frame.\u001b[39;00m\n",
      "File \u001b[1;32m~\\AppData\\Roaming\\Python\\Python311\\site-packages\\websockets\\legacy\\protocol.py:1033\u001b[0m, in \u001b[0;36mWebSocketCommonProtocol.read_message\u001b[1;34m(self)\u001b[0m\n\u001b[0;32m   1025\u001b[0m \u001b[38;5;250m\u001b[39m\u001b[38;5;124;03m\"\"\"\u001b[39;00m\n\u001b[0;32m   1026\u001b[0m \u001b[38;5;124;03mRead a single message from the connection.\u001b[39;00m\n\u001b[0;32m   1027\u001b[0m \n\u001b[1;32m   (...)\u001b[0m\n\u001b[0;32m   1031\u001b[0m \n\u001b[0;32m   1032\u001b[0m \u001b[38;5;124;03m\"\"\"\u001b[39;00m\n\u001b[1;32m-> 1033\u001b[0m frame \u001b[38;5;241m=\u001b[39m \u001b[38;5;28;01mawait\u001b[39;00m \u001b[38;5;28mself\u001b[39m\u001b[38;5;241m.\u001b[39mread_data_frame(max_size\u001b[38;5;241m=\u001b[39m\u001b[38;5;28mself\u001b[39m\u001b[38;5;241m.\u001b[39mmax_size)\n\u001b[0;32m   1035\u001b[0m \u001b[38;5;66;03m# A close frame was received.\u001b[39;00m\n",
      "File \u001b[1;32m~\\AppData\\Roaming\\Python\\Python311\\site-packages\\websockets\\legacy\\protocol.py:1108\u001b[0m, in \u001b[0;36mWebSocketCommonProtocol.read_data_frame\u001b[1;34m(self, max_size)\u001b[0m\n\u001b[0;32m   1107\u001b[0m \u001b[38;5;28;01mwhile\u001b[39;00m \u001b[38;5;28;01mTrue\u001b[39;00m:\n\u001b[1;32m-> 1108\u001b[0m     frame \u001b[38;5;241m=\u001b[39m \u001b[38;5;28;01mawait\u001b[39;00m \u001b[38;5;28mself\u001b[39m\u001b[38;5;241m.\u001b[39mread_frame(max_size)\n\u001b[0;32m   1110\u001b[0m     \u001b[38;5;66;03m# 5.5. Control Frames\u001b[39;00m\n",
      "File \u001b[1;32m~\\AppData\\Roaming\\Python\\Python311\\site-packages\\websockets\\legacy\\protocol.py:1165\u001b[0m, in \u001b[0;36mWebSocketCommonProtocol.read_frame\u001b[1;34m(self, max_size)\u001b[0m\n\u001b[0;32m   1161\u001b[0m \u001b[38;5;250m\u001b[39m\u001b[38;5;124;03m\"\"\"\u001b[39;00m\n\u001b[0;32m   1162\u001b[0m \u001b[38;5;124;03mRead a single frame from the connection.\u001b[39;00m\n\u001b[0;32m   1163\u001b[0m \n\u001b[0;32m   1164\u001b[0m \u001b[38;5;124;03m\"\"\"\u001b[39;00m\n\u001b[1;32m-> 1165\u001b[0m frame \u001b[38;5;241m=\u001b[39m \u001b[38;5;28;01mawait\u001b[39;00m Frame\u001b[38;5;241m.\u001b[39mread(\n\u001b[0;32m   1166\u001b[0m     \u001b[38;5;28mself\u001b[39m\u001b[38;5;241m.\u001b[39mreader\u001b[38;5;241m.\u001b[39mreadexactly,\n\u001b[0;32m   1167\u001b[0m     mask\u001b[38;5;241m=\u001b[39m\u001b[38;5;129;01mnot\u001b[39;00m \u001b[38;5;28mself\u001b[39m\u001b[38;5;241m.\u001b[39mis_client,\n\u001b[0;32m   1168\u001b[0m     max_size\u001b[38;5;241m=\u001b[39mmax_size,\n\u001b[0;32m   1169\u001b[0m     extensions\u001b[38;5;241m=\u001b[39m\u001b[38;5;28mself\u001b[39m\u001b[38;5;241m.\u001b[39mextensions,\n\u001b[0;32m   1170\u001b[0m )\n\u001b[0;32m   1171\u001b[0m \u001b[38;5;28;01mif\u001b[39;00m \u001b[38;5;28mself\u001b[39m\u001b[38;5;241m.\u001b[39mdebug:\n",
      "File \u001b[1;32m~\\AppData\\Roaming\\Python\\Python311\\site-packages\\websockets\\legacy\\framing.py:68\u001b[0m, in \u001b[0;36mFrame.read\u001b[1;34m(cls, reader, mask, max_size, extensions)\u001b[0m\n\u001b[0;32m     67\u001b[0m \u001b[38;5;66;03m# Read the header.\u001b[39;00m\n\u001b[1;32m---> 68\u001b[0m data \u001b[38;5;241m=\u001b[39m \u001b[38;5;28;01mawait\u001b[39;00m reader(\u001b[38;5;241m2\u001b[39m)\n\u001b[0;32m     69\u001b[0m head1, head2 \u001b[38;5;241m=\u001b[39m struct\u001b[38;5;241m.\u001b[39munpack(\u001b[38;5;124m\"\u001b[39m\u001b[38;5;124m!BB\u001b[39m\u001b[38;5;124m\"\u001b[39m, data)\n",
      "File \u001b[1;32mC:\\ProgramData\\anaconda3\\Lib\\asyncio\\streams.py:747\u001b[0m, in \u001b[0;36mStreamReader.readexactly\u001b[1;34m(self, n)\u001b[0m\n\u001b[0;32m    745\u001b[0m         \u001b[38;5;28;01mraise\u001b[39;00m exceptions\u001b[38;5;241m.\u001b[39mIncompleteReadError(incomplete, n)\n\u001b[1;32m--> 747\u001b[0m     \u001b[38;5;28;01mawait\u001b[39;00m \u001b[38;5;28mself\u001b[39m\u001b[38;5;241m.\u001b[39m_wait_for_data(\u001b[38;5;124m'\u001b[39m\u001b[38;5;124mreadexactly\u001b[39m\u001b[38;5;124m'\u001b[39m)\n\u001b[0;32m    749\u001b[0m \u001b[38;5;28;01mif\u001b[39;00m \u001b[38;5;28mlen\u001b[39m(\u001b[38;5;28mself\u001b[39m\u001b[38;5;241m.\u001b[39m_buffer) \u001b[38;5;241m==\u001b[39m n:\n",
      "File \u001b[1;32mC:\\ProgramData\\anaconda3\\Lib\\asyncio\\streams.py:540\u001b[0m, in \u001b[0;36mStreamReader._wait_for_data\u001b[1;34m(self, func_name)\u001b[0m\n\u001b[0;32m    539\u001b[0m \u001b[38;5;28;01mtry\u001b[39;00m:\n\u001b[1;32m--> 540\u001b[0m     \u001b[38;5;28;01mawait\u001b[39;00m \u001b[38;5;28mself\u001b[39m\u001b[38;5;241m.\u001b[39m_waiter\n\u001b[0;32m    541\u001b[0m \u001b[38;5;28;01mfinally\u001b[39;00m:\n",
      "\u001b[1;31mCancelledError\u001b[0m: ",
      "\nThe above exception was the direct cause of the following exception:\n",
      "\u001b[1;31mConnectionClosedError\u001b[0m                     Traceback (most recent call last)",
      "Cell \u001b[1;32mIn[26], line 3\u001b[0m\n\u001b[0;32m      1\u001b[0m \u001b[38;5;28;01masync\u001b[39;00m \u001b[38;5;28;01mwith\u001b[39;00m websockets\u001b[38;5;241m.\u001b[39mconnect(uri) \u001b[38;5;28;01mas\u001b[39;00m ws:\n\u001b[0;32m      2\u001b[0m     \u001b[38;5;28;01mwhile\u001b[39;00m \u001b[38;5;28;01mTrue\u001b[39;00m:\n\u001b[1;32m----> 3\u001b[0m         new_data \u001b[38;5;241m=\u001b[39m \u001b[38;5;28;01mawait\u001b[39;00m ws\u001b[38;5;241m.\u001b[39mrecv()\n\u001b[0;32m      4\u001b[0m         \u001b[38;5;28mprint\u001b[39m(new_data)\n",
      "File \u001b[1;32m~\\AppData\\Roaming\\Python\\Python311\\site-packages\\websockets\\legacy\\protocol.py:568\u001b[0m, in \u001b[0;36mWebSocketCommonProtocol.recv\u001b[1;34m(self)\u001b[0m\n\u001b[0;32m    564\u001b[0m             \u001b[38;5;28;01mreturn\u001b[39;00m \u001b[38;5;28;01mNone\u001b[39;00m  \u001b[38;5;66;03m# type: ignore\u001b[39;00m\n\u001b[0;32m    565\u001b[0m         \u001b[38;5;28;01melse\u001b[39;00m:\n\u001b[0;32m    566\u001b[0m             \u001b[38;5;66;03m# Wait until the connection is closed to raise\u001b[39;00m\n\u001b[0;32m    567\u001b[0m             \u001b[38;5;66;03m# ConnectionClosed with the correct code and reason.\u001b[39;00m\n\u001b[1;32m--> 568\u001b[0m             \u001b[38;5;28;01mawait\u001b[39;00m \u001b[38;5;28mself\u001b[39m\u001b[38;5;241m.\u001b[39mensure_open()\n\u001b[0;32m    570\u001b[0m \u001b[38;5;66;03m# Pop a message from the queue.\u001b[39;00m\n\u001b[0;32m    571\u001b[0m message \u001b[38;5;241m=\u001b[39m \u001b[38;5;28mself\u001b[39m\u001b[38;5;241m.\u001b[39mmessages\u001b[38;5;241m.\u001b[39mpopleft()\n",
      "File \u001b[1;32m~\\AppData\\Roaming\\Python\\Python311\\site-packages\\websockets\\legacy\\protocol.py:948\u001b[0m, in \u001b[0;36mWebSocketCommonProtocol.ensure_open\u001b[1;34m(self)\u001b[0m\n\u001b[0;32m    941\u001b[0m \u001b[38;5;28;01mif\u001b[39;00m \u001b[38;5;28mself\u001b[39m\u001b[38;5;241m.\u001b[39mstate \u001b[38;5;129;01mis\u001b[39;00m State\u001b[38;5;241m.\u001b[39mCLOSING:\n\u001b[0;32m    942\u001b[0m     \u001b[38;5;66;03m# If we started the closing handshake, wait for its completion to\u001b[39;00m\n\u001b[0;32m    943\u001b[0m     \u001b[38;5;66;03m# get the proper close code and reason. self.close_connection_task\u001b[39;00m\n\u001b[0;32m    944\u001b[0m     \u001b[38;5;66;03m# will complete within 4 or 5 * close_timeout after close(). The\u001b[39;00m\n\u001b[0;32m    945\u001b[0m     \u001b[38;5;66;03m# CLOSING state also occurs when failing the connection. In that\u001b[39;00m\n\u001b[0;32m    946\u001b[0m     \u001b[38;5;66;03m# case self.close_connection_task will complete even faster.\u001b[39;00m\n\u001b[0;32m    947\u001b[0m     \u001b[38;5;28;01mawait\u001b[39;00m asyncio\u001b[38;5;241m.\u001b[39mshield(\u001b[38;5;28mself\u001b[39m\u001b[38;5;241m.\u001b[39mclose_connection_task)\n\u001b[1;32m--> 948\u001b[0m     \u001b[38;5;28;01mraise\u001b[39;00m \u001b[38;5;28mself\u001b[39m\u001b[38;5;241m.\u001b[39mconnection_closed_exc()\n\u001b[0;32m    950\u001b[0m \u001b[38;5;66;03m# Control may only reach this point in buggy third-party subclasses.\u001b[39;00m\n\u001b[0;32m    951\u001b[0m \u001b[38;5;28;01massert\u001b[39;00m \u001b[38;5;28mself\u001b[39m\u001b[38;5;241m.\u001b[39mstate \u001b[38;5;129;01mis\u001b[39;00m State\u001b[38;5;241m.\u001b[39mCONNECTING\n",
      "\u001b[1;31mConnectionClosedError\u001b[0m: sent 1011 (internal error) keepalive ping timeout; no close frame received"
     ]
    }
   ],
   "source": [
    "async with websockets.connect(uri) as ws:\n",
    "    while True:\n",
    "        new_data = await ws.recv()\n",
    "        print(new_data) "
   ]
  },
  {
   "cell_type": "code",
   "execution_count": 13,
   "id": "01cb361a",
   "metadata": {},
   "outputs": [],
   "source": [
    "#live data routines\n",
    "#loop is websocket connection to receive data from the orchestrator\n",
    "#update plot live plots this data as it comes in\n",
    "#init_history_plot and load_figure are subroutines of update_plot\n",
    "#much of this is adapted from https://stackoverflow.com/questions/68918341/live-update-several-plots-in-jupyter-notebook\n",
    "\n",
    "uri = \"ws://127.0.0.1:13374/ws\"\n",
    "\n",
    "async def loop(var_x: str,var_y: str): # non-blocking coroutine, updates data source\n",
    "    async with websockets.connect(uri) as ws:\n",
    "        while True:\n",
    "            new_data = await ws.recv()\n",
    "            new_data = json.loads(new_data)\n",
    "            if not isinstance(new_data,float):\n",
    "                sub_data.append(new_data)\n",
    "                update_plot(var_x,var_y)\n",
    "\n",
    "def update_plot(var_x: str,var_y: str):\n",
    "    with plot_wrapper:\n",
    "        fig, ax = load_figure(template_fig)\n",
    "        plot_wrapper.clear_output(wait=True)\n",
    "        ax.scatter([data[var_x][0] for data in sub_data],[data[var_y][0] for data in sub_data],s=1)\n",
    "        pyplot.show()\n",
    "\n",
    "### i need to start plotting of the data from index x\n",
    "### 3 plots instaed of 1\n",
    "        \n",
    "def init_history_plot():\n",
    "    \"\"\"\n",
    "    Create plot template (dump)\n",
    "    \n",
    "    Returns: pickled str\n",
    "    \"\"\"\n",
    "    fig, axs = pyplot.subplots()\n",
    "    dat = pickle.dumps(fig)\n",
    "    pyplot.close()\n",
    "    return dat\n",
    "\n",
    "\n",
    "def load_figure(dump):\n",
    "    \"\"\"\n",
    "    Load Figure from dump\n",
    "    \n",
    "    Returns: (Figure, Axes)\n",
    "    \"\"\"\n",
    "    # https://github.com/ipython/ipykernel/issues/231\n",
    "    import ipykernel.pylab.backend_inline as back_inline\n",
    "    import matplotlib.backends.backend_agg as back_agg\n",
    "    back_inline.new_figure_manager_given_figure = back_agg.new_figure_manager_given_figure\n",
    "    figure = pickle.loads(dump)\n",
    "    # https://github.com/matplotlib/matplotlib/issues/17627/\n",
    "    figure._cachedRenderer = None\n",
    "    return figure, figure.axes[0]"
   ]
  },
  {
   "cell_type": "code",
   "execution_count": 24,
   "id": "f3a7e5a5",
   "metadata": {},
   "outputs": [
    {
     "data": {
      "text/plain": [
       "<Response [200]>"
      ]
     },
     "execution_count": 24,
     "metadata": {},
     "output_type": "execute_result"
    }
   ],
   "source": [
    "#start\n",
    "#send this command to initialize the orchestrator for normal single experiments\n",
    "collectionkey = 'default'\n",
    "experiment = {'soe':['orchestrator/start'],'params':{'start':{'collectionkey':collectionkey}},'meta':{}}\n",
    "requests.post(url+'/orchestrator/addExperiment',params = {'experiment':json.dumps(experiment)})"
   ]
  },
  {
   "cell_type": "code",
   "execution_count": 25,
   "id": "2f3cba01-a484-4481-89ca-0abb993bfdc3",
   "metadata": {},
   "outputs": [
    {
     "data": {
      "text/plain": [
       "<Response [200]>"
      ]
     },
     "execution_count": 25,
     "metadata": {},
     "output_type": "execute_result"
    }
   ],
   "source": [
    "id0 = 0\n",
    "substrate = -999\n",
    "experiment = dict(soe=['orchestrator/start',  f'palmsens/measure_{0}'], \n",
    "            params={'start': {'collectionkey' : f'substrate_{substrate}'},\n",
    "                    f'measure_{0}':{'method': 'open_circuit_potentiometry',\n",
    "                                    'parameters': json.dumps({'t_run': 20, 't_interval': 0.25}),\n",
    "                                    'filename': 'substrate_{}_dummy_ocp_{}_{}'.format(substrate, id0, 0),\n",
    "                                    'substrate': substrate,\n",
    "                                    'id': id0,\n",
    "                                    'experiment': 0},\n",
    "                    },\n",
    "            meta=dict())\n",
    "requests.post(url+'/orchestrator/addExperiment',params = {'experiment':json.dumps(experiment)})"
   ]
  },
  {
   "cell_type": "code",
   "execution_count": 36,
   "id": "c2b4716f",
   "metadata": {},
   "outputs": [
    {
     "data": {
      "text/plain": [
       "<Response [200]>"
      ]
     },
     "execution_count": 36,
     "metadata": {},
     "output_type": "execute_result"
    }
   ],
   "source": [
    "#finish\n",
    "#send this command to shut down the orchestrator for those\n",
    "experiment = {'soe':['orchestrator/finish'],'params':{'finish':None},'meta':{}}\n",
    "requests.post(url+'/orchestrator/addExperiment',params = {'experiment':json.dumps(experiment)})"
   ]
  },
  {
   "cell_type": "code",
   "execution_count": 20,
   "id": "e6cefb17",
   "metadata": {},
   "outputs": [
    {
     "data": {
      "text/plain": [
       "<Response [200]>"
      ]
     },
     "execution_count": 20,
     "metadata": {},
     "output_type": "execute_result"
    }
   ],
   "source": [
    "#emergency functions\n",
    "thread = 0\n",
    "requests.post(url+'/orchestrator/clear',params = {'thread':thread})\n",
    "#requests.post(url+'/orchestrator/kill',params = {'thread':thread})\n",
    "#requests.post(url+'/orchestrator/pause',params = {'thread':thread})\n",
    "#requests.post(url+'/orchestrator/resume',params = {'thread':thread})"
   ]
  },
  {
   "cell_type": "code",
   "execution_count": 18,
   "id": "04d2f725",
   "metadata": {
    "scrolled": true
   },
   "outputs": [
    {
     "data": {
      "application/vnd.jupyter.widget-view+json": {
       "model_id": "03e7e7ea58d04f489444ac799ee7cdff",
       "version_major": 2,
       "version_minor": 0
      },
      "text/plain": [
       "Box(children=(Output(),))"
      ]
     },
     "metadata": {},
     "output_type": "display_data"
    },
    {
     "name": "stderr",
     "output_type": "stream",
     "text": [
      "Task exception was never retrieved\n",
      "future: <Task finished name='Task-13' coro=<loop() done, defined at C:\\Users\\juliu\\AppData\\Local\\Temp\\ipykernel_39820\\3148805270.py:9> exception=ConnectionClosedError(None, None, None)>\n",
      "Traceback (most recent call last):\n",
      "  File \"C:\\Users\\juliu\\AppData\\Roaming\\Python\\Python311\\site-packages\\websockets\\legacy\\protocol.py\", line 963, in transfer_data\n",
      "    message = await self.read_message()\n",
      "              ^^^^^^^^^^^^^^^^^^^^^^^^^\n",
      "  File \"C:\\Users\\juliu\\AppData\\Roaming\\Python\\Python311\\site-packages\\websockets\\legacy\\protocol.py\", line 1033, in read_message\n",
      "    frame = await self.read_data_frame(max_size=self.max_size)\n",
      "            ^^^^^^^^^^^^^^^^^^^^^^^^^^^^^^^^^^^^^^^^^^^^^^^^^^\n",
      "  File \"C:\\Users\\juliu\\AppData\\Roaming\\Python\\Python311\\site-packages\\websockets\\legacy\\protocol.py\", line 1108, in read_data_frame\n",
      "    frame = await self.read_frame(max_size)\n",
      "            ^^^^^^^^^^^^^^^^^^^^^^^^^^^^^^^\n",
      "  File \"C:\\Users\\juliu\\AppData\\Roaming\\Python\\Python311\\site-packages\\websockets\\legacy\\protocol.py\", line 1165, in read_frame\n",
      "    frame = await Frame.read(\n",
      "            ^^^^^^^^^^^^^^^^^\n",
      "  File \"C:\\Users\\juliu\\AppData\\Roaming\\Python\\Python311\\site-packages\\websockets\\legacy\\framing.py\", line 68, in read\n",
      "    data = await reader(2)\n",
      "           ^^^^^^^^^^^^^^^\n",
      "  File \"C:\\ProgramData\\anaconda3\\Lib\\asyncio\\streams.py\", line 745, in readexactly\n",
      "    raise exceptions.IncompleteReadError(incomplete, n)\n",
      "asyncio.exceptions.IncompleteReadError: 0 bytes read on a total of 2 expected bytes\n",
      "\n",
      "The above exception was the direct cause of the following exception:\n",
      "\n",
      "Traceback (most recent call last):\n",
      "  File \"C:\\Users\\juliu\\AppData\\Local\\Temp\\ipykernel_39820\\3148805270.py\", line 12, in loop\n",
      "    new_data = await ws.recv()\n",
      "               ^^^^^^^^^^^^^^^\n",
      "  File \"C:\\Users\\juliu\\AppData\\Roaming\\Python\\Python311\\site-packages\\websockets\\legacy\\protocol.py\", line 568, in recv\n",
      "    await self.ensure_open()\n",
      "  File \"C:\\Users\\juliu\\AppData\\Roaming\\Python\\Python311\\site-packages\\websockets\\legacy\\protocol.py\", line 939, in ensure_open\n",
      "    raise self.connection_closed_exc()\n",
      "websockets.exceptions.ConnectionClosedError: no close frame received or sent\n"
     ]
    }
   ],
   "source": [
    "#get data and start a live plotting instance\n",
    "#this sets up a websocket connection with the orchestrator and begins live plotting of received spectra\n",
    "%matplotlib inline\n",
    "asyncio.create_task(loop(\"x\",\"y\"))\n",
    "plot_wrapper = ipywidgets.Output()\n",
    "template_fig = init_history_plot()\n",
    "plot_interface = ipywidgets.Box(children=[plot_wrapper])\n",
    "plot_interface"
   ]
  },
  {
   "cell_type": "code",
   "execution_count": 8,
   "id": "d31c38b8",
   "metadata": {},
   "outputs": [],
   "source": [
    "#default plotting method for single spectra\n",
    "def plot(data,var_x,var_y):\n",
    "    pyplot.plot([data[var_x][0] for data in data],[data[var_y][0] for data in data])\n",
    "    pyplot.show()"
   ]
  },
  {
   "cell_type": "code",
   "execution_count": 9,
   "id": "2aa42047",
   "metadata": {},
   "outputs": [
    {
     "data": {
      "image/png": "[encoded data removed]",
      "text/plain": [
       "<Figure size 640x480 with 1 Axes>"
      ]
     },
     "metadata": {},
     "output_type": "display_data"
    }
   ],
   "source": [
    "plot(sub_data,\"x\",\"y\")"
   ]
  },
  {
   "cell_type": "code",
   "execution_count": null,
   "id": "eaf783df",
   "metadata": {},
   "outputs": [],
   "source": [
    "len(sub_data)"
   ]
  },
  {
   "cell_type": "code",
   "execution_count": null,
   "id": "087914fb",
   "metadata": {},
   "outputs": [],
   "source": [
    "sub_data[50:]"
   ]
  },
  {
   "cell_type": "code",
   "execution_count": null,
   "id": "d3bbae63",
   "metadata": {},
   "outputs": [],
   "source": [
    "sub_data"
   ]
  },
  {
   "cell_type": "code",
   "execution_count": null,
   "id": "514a88ed",
   "metadata": {},
   "outputs": [],
   "source": [
    "[data['t_s'][0] for data in sub_data]"
   ]
  },
  {
   "cell_type": "code",
   "execution_count": null,
   "id": "f0baa384",
   "metadata": {},
   "outputs": [],
   "source": []
  },
  {
   "cell_type": "code",
   "execution_count": null,
   "id": "b1fc59c9-9fe1-4f34-afbe-15421da6d563",
   "metadata": {},
   "outputs": [],
   "source": []
  }
 ],
 "metadata": {
  "kernelspec": {
   "display_name": "Python 3 (ipykernel)",
   "language": "python",
   "name": "python3"
  },
  "language_info": {
   "codemirror_mode": {
    "name": "ipython",
    "version": 3
   },
   "file_extension": ".py",
   "mimetype": "text/x-python",
   "name": "python",
   "nbconvert_exporter": "python",
   "pygments_lexer": "ipython3",
   "version": "3.11.7"
  }
 },
 "nbformat": 4,
 "nbformat_minor": 5
}
