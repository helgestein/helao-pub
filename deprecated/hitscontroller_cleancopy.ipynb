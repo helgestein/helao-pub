{
 "cells": [
  {
   "cell_type": "code",
   "execution_count": 1,
   "id": "d5337c20",
   "metadata": {},
   "outputs": [],
   "source": [
    "#one day i may move the functionality to start and monitor servers into this document, \n",
    "# but for now, start up everything with helao_interface.py before using this code\n",
    "import requests\n",
    "import json\n",
    "from matplotlib import pyplot\n",
    "url = \"http://192.168.31.114:13380\"\n",
    "#url = \"http://127.0.0.1:13380\"\n",
    "import time\n",
    "import ipywidgets\n",
    "import numpy\n",
    "import pickle\n",
    "import asyncio\n",
    "import websockets\n",
    "sub_data = {} #holds data sent to the notebook by the orchestrator\n",
    "runs = {} #i think this holds the boolean variables that keep the websockets running?"
   ]
  },
  {
   "cell_type": "code",
   "execution_count": 2,
   "id": "80b26e2b",
   "metadata": {},
   "outputs": [],
   "source": [
    "#live data routines\n",
    "#loop is websocket connection to receive data from the orchestrator\n",
    "#update plot live plots this data as it comes in\n",
    "#init_history_plot and load_figure are subroutines of update_plot\n",
    "#much of this is adapted from https://stackoverflow.com/questions/68918341/live-update-several-plots-in-jupyter-notebook\n",
    "\n",
    "\n",
    "uri = \"ws://192.168.31.114:13380/ws_data/\"\n",
    "\n",
    "async def loop(ident): # non-blocking coroutine, updates data source\n",
    "    if ident not in sub_data.keys():\n",
    "        sub_data[ident] = []\n",
    "    runs[ident] = True\n",
    "    async with websockets.connect(uri+str(ident)) as ws:\n",
    "        while runs[ident]:\n",
    "            new_data = await ws.recv()\n",
    "            new_data = json.loads(new_data)\n",
    "            if None not in new_data:\n",
    "                sub_data[ident].append(new_data)\n",
    "                update_plot(ident)\n",
    "\n",
    "def update_plot(ident):\n",
    "    with plot_wrapper:\n",
    "        fig, ax = load_figure(template_fig)\n",
    "        plot_wrapper.clear_output(wait=True)\n",
    "        l = len(sub_data[ident])\n",
    "        for i in range(l):\n",
    "            dat = sub_data[ident][i]\n",
    "            dat = numpy.array(dat)\n",
    "            ax.plot(dat[0],dat[1],str(1-(i+1)/l))\n",
    "        pyplot.show()\n",
    "        \n",
    "def init_history_plot():\n",
    "    \"\"\"\n",
    "    Create plot template (dump)\n",
    "    \n",
    "    Returns: pickled str\n",
    "    \"\"\"\n",
    "    fig, ax = pyplot.subplots()\n",
    "    dat = pickle.dumps(fig)\n",
    "    pyplot.close()\n",
    "    return dat\n",
    "\n",
    "\n",
    "def load_figure(dump):\n",
    "    \"\"\"\n",
    "    Load Figure from dump\n",
    "    \n",
    "    Returns: (Figure, Axes)\n",
    "    \"\"\"\n",
    "    # https://github.com/ipython/ipykernel/issues/231\n",
    "    import ipykernel.pylab.backend_inline as back_inline\n",
    "    import matplotlib.backends.backend_agg as back_agg\n",
    "    back_inline.new_figure_manager_given_figure = back_agg.new_figure_manager_given_figure\n",
    "    figure = pickle.loads(dump)\n",
    "    # https://github.com/matplotlib/matplotlib/issues/17627/\n",
    "    figure._cachedRenderer = None\n",
    "    return figure, figure.axes[0]"
   ]
  },
  {
   "cell_type": "code",
   "execution_count": 9,
   "id": "f3b116a6",
   "metadata": {},
   "outputs": [
    {
     "data": {
      "text/plain": [
       "<Response [200]>"
      ]
     },
     "execution_count": 9,
     "metadata": {},
     "output_type": "execute_result"
    }
   ],
   "source": [
    "#start\n",
    "#send this command to initialize the orchestrator for normal single experiments\n",
    "collectionkey = 'default'\n",
    "experiment = {'soe':['orchestrator/start'],'params':{'start':{'collectionkey':collectionkey}},'meta':{}}\n",
    "requests.post(url+'/orchestrator/addExperiment',params = {'experiment':json.dumps(experiment)})"
   ]
  },
  {
   "cell_type": "code",
   "execution_count": null,
   "id": "00ba8d33",
   "metadata": {},
   "outputs": [],
   "source": [
    "#finish\n",
    "#send this command to shut down the orchestrator for those\n",
    "experiment = {'soe':['orchestrator/finish'],'params':{'finish':None},'meta':{}}\n",
    "requests.post(url+'/orchestrator/addExperiment',params = {'experiment':json.dumps(experiment)})"
   ]
  },
  {
   "cell_type": "code",
   "execution_count": 161,
   "id": "c9e119ca",
   "metadata": {},
   "outputs": [
    {
     "data": {
      "text/plain": [
       "<Response [200]>"
      ]
     },
     "execution_count": 161,
     "metadata": {},
     "output_type": "execute_result"
    }
   ],
   "source": [
    "#emergency functions\n",
    "thread = 0\n",
    "requests.post(url+'/orchestrator/clear',params = {'thread':thread})\n",
    "#requests.post(url+'/orchestrator/kill',params = {'thread':thread})\n",
    "#requests.post(url+'/orchestrator/pause',params = {'thread':thread})\n",
    "#requests.post(url+'/orchestrator/resume',params = {'thread':thread})"
   ]
  },
  {
   "cell_type": "code",
   "execution_count": 15,
   "id": "b8cfd67f",
   "metadata": {},
   "outputs": [
    {
     "data": {
      "text/plain": [
       "<Response [200]>"
      ]
     },
     "execution_count": 15,
     "metadata": {},
     "output_type": "execute_result"
    }
   ],
   "source": [
    "#move the motors and/or take a measurement\n",
    "probe = 'raman785' #probe used\n",
    "sample = 'base' #sample type used -- determines coordinate system relative to probe\n",
    "x = None #x to move to\n",
    "y = None #y to move to; will not move if x and y both None\n",
    "z = 17 #z height to move to; will not move if None\n",
    "safe_z = None #safe z to move to after measurement; will not move if None\n",
    "t = 60 #time to measure for, or number of scans if FTIR not on time mode\n",
    "bg = None #use background for measurement\n",
    "time_mode = True #toggle time-mode for ftir\n",
    "experiment = {'soe':[],'params':{},'meta':{}}\n",
    "if x != None or y != None:\n",
    "    experiment['soe'].append('owis/movetable')\n",
    "    experiment['params']['movetable'] = {'pos':json.dumps([x,y]),'probe':probe,'sample':sample}\n",
    "if z != None:\n",
    "    experiment['soe'].append('owis/moveprobe_1')\n",
    "    experiment['params']['moveprobe_1'] = {'z':z,'probe':probe,'sample':sample}\n",
    "if (probe == 'ftirLow' or probe == 'ftirHigh') and t != 0:\n",
    "    experiment['soe'].append('arcoptix/read')\n",
    "    experiment['params']['read'] = {'probe':probe,'time':time_mode,'av':t,'bg':bg}\n",
    "if (probe == 'raman532' or probe == 'raman785') and t != 0:\n",
    "    experiment['soe'].append('ocean/read')\n",
    "    experiment['params']['read'] = {'t':t,'bg':bg}\n",
    "if safe_z != None:\n",
    "    experiment['soe'].append('owis/moveprobe_2')\n",
    "    experiment['params']['moveprobe_2'] = {'z':z,'probe':probe,'sample':sample}\n",
    "\n",
    "\n",
    "requests.post(url+'/orchestrator/addExperiment',params = {'experiment':json.dumps(experiment)})"
   ]
  },
  {
   "cell_type": "code",
   "execution_count": 7,
   "id": "6857b52d",
   "metadata": {
    "scrolled": true
   },
   "outputs": [
    {
     "data": {
      "application/vnd.jupyter.widget-view+json": {
       "model_id": "643725e26d92400f8d0b651873fd4bb4",
       "version_major": 2,
       "version_minor": 0
      },
      "text/plain": [
       "Box(children=(Output(),))"
      ]
     },
     "metadata": {},
     "output_type": "display_data"
    }
   ],
   "source": [
    "#get data and start a live plotting instance\n",
    "#this sets up a websocket connection with the orchestrator and begins live plotting of received spectra\n",
    "%matplotlib inline\n",
    "params = {'thread':0,'addresses':json.dumps(['read/data/res/wavenumbers','read/data/res/intensities'])}\n",
    "ident = json.loads(requests.get(url+'/orchestrator/subscribe',params=params).json())['subscription_id']\n",
    "asyncio.create_task(loop(ident))\n",
    "plot_wrapper = ipywidgets.Output()\n",
    "template_fig = init_history_plot()\n",
    "plot_interface = ipywidgets.Box(children=[plot_wrapper])\n",
    "plot_interface"
   ]
  },
  {
   "cell_type": "code",
   "execution_count": 147,
   "id": "7bcbb80f",
   "metadata": {},
   "outputs": [
    {
     "data": {
      "text/plain": [
       "[[0.05889075994491577, None]]"
      ]
     },
     "execution_count": 147,
     "metadata": {},
     "output_type": "execute_result"
    }
   ],
   "source": [
    "#ftir queries\n",
    "gain = None\n",
    "experiment = {'soe':['arcoptix/saturation'],'params':{},'meta':{}}\n",
    "requests.post(url+'/orchestrator/addExperiment',params = {'experiment':json.dumps({'soe':['arcoptix/saturation'],'params':{'saturation':{}},'meta':{}})})\n",
    "#requests.post(url+'/orchestrator/addExperiment',params = {'experiment':json.dumps({'soe':['arcoptix/getGain'],'params':{'getGain':{}},'meta':{}})})\n",
    "#requests.post(url+'/orchestrator/addExperiment',params = {'experiment':json.dumps({'soe':['arcoptix/setGain'],'params':{'setGain':{'gain':gain},'meta':{}})})\n",
    "time.sleep(1)\n",
    "sub_data[ident_arco]"
   ]
  },
  {
   "cell_type": "code",
   "execution_count": 145,
   "id": "9a8d7336",
   "metadata": {},
   "outputs": [
    {
     "data": {
      "text/plain": [
       "<Task pending name='Task-50' coro=<arco_loop() running at C:\\Users\\JKFLOW~1\\AppData\\Local\\Temp/ipykernel_12196/3681287511.py:1>>"
      ]
     },
     "execution_count": 145,
     "metadata": {},
     "output_type": "execute_result"
    }
   ],
   "source": [
    "#maybe i also want a subscription to receive information about gain and saturation of the FTIR\n",
    "async def arco_loop(ident): # non-blocking coroutine, updates data source\n",
    "    if ident not in sub_data.keys():\n",
    "        sub_data[ident] = []\n",
    "    runs[ident] = True\n",
    "    async with websockets.connect(uri+str(ident)) as ws:\n",
    "        while runs[ident]:\n",
    "            new_data = await ws.recv()\n",
    "            new_data = json.loads(new_data)\n",
    "            sub_data[ident].append(new_data)\n",
    "\n",
    "params = {'thread':0,'addresses':json.dumps(['saturation/data/data/saturation','getGain/data/data/gain'])}\n",
    "ident_arco = json.loads(requests.get(url+'/orchestrator/subscribe',params=params).json())['subscription_id']\n",
    "asyncio.create_task(arco_loop(ident_arco))"
   ]
  },
  {
   "cell_type": "code",
   "execution_count": 76,
   "id": "f3b3b755",
   "metadata": {},
   "outputs": [
    {
     "data": {
      "text/plain": [
       "<Response [200]>"
      ]
     },
     "execution_count": 76,
     "metadata": {},
     "output_type": "execute_result"
    }
   ],
   "source": [
    "#close a websocket on the orchestrator side (probably i need to use runs here also to shut it down on this side)\n",
    "requests.get(url+'/orchestrator/unsubscribe',params={'ident':ident})"
   ]
  },
  {
   "cell_type": "code",
   "execution_count": 3,
   "id": "3d64f6d0",
   "metadata": {},
   "outputs": [],
   "source": [
    "#can use orchestrator/getArray to request all spectra from a single run.\n",
    "dorta = json.loads(requests.get(url+'/orchestrator/getArray',params={\n",
    "    'addresses':json.dumps(['read/data/res/wavenumbers','read/data/res/intensities']),\n",
    "    'path':'C:\\\\Users\\\\Operator\\\\Documents\\\\data\\\\z_cal\\\\hits_z_cal_session_31.h5','run':0}).json())"
   ]
  },
  {
   "cell_type": "code",
   "execution_count": null,
   "id": "2838ab2c",
   "metadata": {},
   "outputs": [],
   "source": [
    "#set raman background (out of date)\n",
    "t = 5\n",
    "experiment = {'soe':['owis/goref','ocean/readBackground'],\n",
    "              'params':{'goref':{'probe':'raman','ref':'air'},\n",
    "                        'readBackground':{'t':t}},\n",
    "              'meta':{}}\n",
    "requests.post(url+'/orchestrator/addExperiment',params = {'experiment':json.dumps(experiment)})\n"
   ]
  },
  {
   "cell_type": "code",
   "execution_count": null,
   "id": "aafde961",
   "metadata": {},
   "outputs": [],
   "source": [
    "#set ftir background (out of date)\n",
    "t = 100\n",
    "time = False\n",
    "probe = 'ftirLow'\n",
    "experiment = {'soe':['owis/goref','arcoptix/readBackground','owis/moveprobe'],\n",
    "              'params':{'goref':{'probe':probe,'ref':'au'},\n",
    "                        'readBackground':{'probe':probe,'time':time,'av':t},\n",
    "                        'moveprobe':{'z':30,'probe':probe,'sample':'base'}},\n",
    "              'meta':{}}\n",
    "requests.post(url+'/orchestrator/addExperiment',params = {'experiment':json.dumps(experiment)})"
   ]
  },
  {
   "cell_type": "code",
   "execution_count": 173,
   "id": "a978aaea",
   "metadata": {},
   "outputs": [
    {
     "data": {
      "text/plain": [
       "<Response [200]>"
      ]
     },
     "execution_count": 173,
     "metadata": {},
     "output_type": "execute_result"
    },
    {
     "name": "stderr",
     "output_type": "stream",
     "text": [
      "Task exception was never retrieved\n",
      "future: <Task finished name='Task-27' coro=<loop() done, defined at C:\\Users\\JKFLOW~1\\AppData\\Local\\Temp/ipykernel_10156/2452441317.py:3> exception=ConnectionClosedError(None, None, None)>\n",
      "Traceback (most recent call last):\n",
      "  File \"c:\\users\\jkflowers\\appdata\\local\\programs\\python\\python39\\lib\\site-packages\\websockets\\legacy\\protocol.py\", line 945, in transfer_data\n",
      "    message = await self.read_message()\n",
      "  File \"c:\\users\\jkflowers\\appdata\\local\\programs\\python\\python39\\lib\\site-packages\\websockets\\legacy\\protocol.py\", line 1015, in read_message\n",
      "    frame = await self.read_data_frame(max_size=self.max_size)\n",
      "  File \"c:\\users\\jkflowers\\appdata\\local\\programs\\python\\python39\\lib\\site-packages\\websockets\\legacy\\protocol.py\", line 1090, in read_data_frame\n",
      "    frame = await self.read_frame(max_size)\n",
      "  File \"c:\\users\\jkflowers\\appdata\\local\\programs\\python\\python39\\lib\\site-packages\\websockets\\legacy\\protocol.py\", line 1145, in read_frame\n",
      "    frame = await Frame.read(\n",
      "  File \"c:\\users\\jkflowers\\appdata\\local\\programs\\python\\python39\\lib\\site-packages\\websockets\\legacy\\framing.py\", line 70, in read\n",
      "    data = await reader(2)\n",
      "  File \"c:\\users\\jkflowers\\appdata\\local\\programs\\python\\python39\\lib\\asyncio\\streams.py\", line 723, in readexactly\n",
      "    await self._wait_for_data('readexactly')\n",
      "  File \"c:\\users\\jkflowers\\appdata\\local\\programs\\python\\python39\\lib\\asyncio\\streams.py\", line 517, in _wait_for_data\n",
      "    await self._waiter\n",
      "  File \"c:\\users\\jkflowers\\appdata\\local\\programs\\python\\python39\\lib\\asyncio\\selector_events.py\", line 856, in _read_ready__data_received\n",
      "    data = self._sock.recv(self.max_size)\n",
      "ConnectionResetError: [WinError 10054] An existing connection was forcibly closed by the remote host\n",
      "\n",
      "The above exception was the direct cause of the following exception:\n",
      "\n",
      "Traceback (most recent call last):\n",
      "  File \"C:\\Users\\JKFLOW~1\\AppData\\Local\\Temp/ipykernel_10156/2452441317.py\", line 9, in loop\n",
      "    new_data = await ws.recv()\n",
      "  File \"c:\\users\\jkflowers\\appdata\\local\\programs\\python\\python39\\lib\\site-packages\\websockets\\legacy\\protocol.py\", line 553, in recv\n",
      "    await self.ensure_open()\n",
      "  File \"c:\\users\\jkflowers\\appdata\\local\\programs\\python\\python39\\lib\\site-packages\\websockets\\legacy\\protocol.py\", line 921, in ensure_open\n",
      "    raise self.connection_closed_exc()\n",
      "websockets.exceptions.ConnectionClosedError: no close frame received or sent\n"
     ]
    }
   ],
   "source": [
    "#fix motor\n",
    "motor = 0\n",
    "experiment = {'soe':['owis/activate','owis/configure'],\n",
    "              'params':{'activate':{'motor':motor},'configure':{'motor':motor}},'meta':{}}\n",
    "requests.post(url+'/orchestrator/addExperiment',params = {'experiment':json.dumps(experiment)})"
   ]
  },
  {
   "cell_type": "code",
   "execution_count": null,
   "id": "0ed00a22",
   "metadata": {},
   "outputs": [],
   "source": [
    "#default plotting method for single spectra\n",
    "def plot(data):\n",
    "    pyplot.plot(data[0],data[1])\n",
    "    pyplot.show()"
   ]
  },
  {
   "cell_type": "code",
   "execution_count": null,
   "id": "b52d52cd",
   "metadata": {},
   "outputs": [],
   "source": [
    "#map on alexey's substrate\n",
    "#larger experimental runs can be placed in their own cells like this\n",
    "import csv\n",
    "x0 = 7\n",
    "y0 = -2\n",
    "z = -3\n",
    "t = 100\n",
    "bg = True\n",
    "time = False\n",
    "sample = 'sem'\n",
    "#start\n",
    "collectionkey = 'alexey'\n",
    "experiment = {'soe':['orchestrator/start'],'params':{'start':{'collectionkey':collectionkey}},'meta':{}}\n",
    "requests.post(url+'/orchestrator/addExperiment',params = {'experiment':json.dumps(experiment)})\n",
    "with open('C:/Users/jkflowers/Downloads/coord5x5.csv', newline='') as csvfile:\n",
    "    reader = iter(csv.reader(csvfile, delimiter=','))\n",
    "    next(reader)\n",
    "    for line in reader:\n",
    "        x,y = float(line[1])+x0,float(line[2])+y0\n",
    "        experiment = {'soe':['owis/movetable','owis/moveprobe_1'],\n",
    "                      'params':{'movetable':{'pos':json.dumps([x,y]),'probe':'ftir','sample':sample},\n",
    "                                'moveprobe_1':{'z':z,'probe':'ftir','sample':sample}},\n",
    "                      'meta':{}}\n",
    "        requests.post(url+'/orchestrator/addExperiment',params = {'experiment':json.dumps(experiment)})\n",
    "with open('C:/Users/jkflowers/Downloads/coord5x5_v2.csv', newline='') as csvfile:\n",
    "    reader = iter(csv.reader(csvfile, delimiter=','))\n",
    "    next(reader)\n",
    "    for line in reader:\n",
    "        x,y = float(line[1])+x0,float(line[2])+y0\n",
    "        experiment = {'soe':['owis/movetable','owis/moveprobe_1'],\n",
    "                      'params':{'movetable':{'pos':json.dumps([x,y]),'probe':'ftir','sample':sample},\n",
    "                                'moveprobe_1':{'z':z,'probe':'ftir','sample':sample}},\n",
    "                      'meta':{}}\n",
    "        requests.post(url+'/orchestrator/addExperiment',params = {'experiment':json.dumps(experiment)})\n",
    "with open('C:/Users/jkflowers/Downloads/coord5x5_v3.csv', newline='') as csvfile:\n",
    "    reader = iter(csv.reader(csvfile, delimiter=','))\n",
    "    next(reader)\n",
    "    for line in reader:\n",
    "        x,y = float(line[1])+x0,float(line[2])+y0\n",
    "        experiment = {'soe':['owis/movetable','owis/moveprobe_1'],\n",
    "                      'params':{'movetable':{'pos':json.dumps([x,y]),'probe':'ftir','sample':sample},\n",
    "                                'moveprobe_1':{'z':z,'probe':'ftir','sample':sample}},\n",
    "                      'meta':{}}\n",
    "        requests.post(url+'/orchestrator/addExperiment',params = {'experiment':json.dumps(experiment)})\n",
    "#finish\n",
    "experiment = {'soe':['orchestrator/finish'],'params':{'finish':None},'meta':{}}\n",
    "requests.post(url+'/orchestrator/addExperiment',params = {'experiment':json.dumps(experiment)})"
   ]
  },
  {
   "cell_type": "code",
   "execution_count": null,
   "id": "d7a35c60",
   "metadata": {},
   "outputs": [],
   "source": []
  }
 ],
 "metadata": {
  "kernelspec": {
   "display_name": "Python 3 (ipykernel)",
   "language": "python",
   "name": "python3"
  },
  "language_info": {
   "codemirror_mode": {
    "name": "ipython",
    "version": 3
   },
   "file_extension": ".py",
   "mimetype": "text/x-python",
   "name": "python",
   "nbconvert_exporter": "python",
   "pygments_lexer": "ipython3",
   "version": "3.9.2"
  }
 },
 "nbformat": 4,
 "nbformat_minor": 5
}
