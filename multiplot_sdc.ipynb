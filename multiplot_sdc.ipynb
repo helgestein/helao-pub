{
 "cells": [
  {
   "cell_type": "code",
   "execution_count": 2,
   "id": "96971688",
   "metadata": {},
   "outputs": [],
   "source": [
    "#one day i may move the functionality to start and monitor servers into this document, \n",
    "# but for now, start up everything with helao_interface.py before using this code\n",
    "import requests\n",
    "import json\n",
    "from matplotlib import pyplot\n",
    "#url = \"http://192.168.31.114:13380\"\n",
    "url = \"http://127.0.0.1:13380\"\n",
    "import time\n",
    "import ipywidgets\n",
    "import numpy\n",
    "import pickle\n",
    "import asyncio\n",
    "import websockets\n",
    "sub_data = [] #holds data sent to the notebook by the orchestrator"
   ]
  },
  {
   "cell_type": "code",
   "execution_count": 7,
   "id": "20923d54-f011-4b67-84e6-4d37ea440af8",
   "metadata": {},
   "outputs": [
    {
     "ename": "InvalidStatusCode",
     "evalue": "server rejected WebSocket connection: HTTP 403",
     "output_type": "error",
     "traceback": [
      "\u001b[1;31m---------------------------------------------------------------------------\u001b[0m",
      "\u001b[1;31mInvalidStatusCode\u001b[0m                         Traceback (most recent call last)",
      "Cell \u001b[1;32mIn[7], line 2\u001b[0m\n\u001b[0;32m      1\u001b[0m uri \u001b[38;5;241m=\u001b[39m \u001b[38;5;124m\"\u001b[39m\u001b[38;5;124mws://127.0.0.1:13374/ws\u001b[39m\u001b[38;5;124m\"\u001b[39m\n\u001b[1;32m----> 2\u001b[0m \u001b[38;5;28;01masync\u001b[39;00m \u001b[38;5;28;01mwith\u001b[39;00m websockets\u001b[38;5;241m.\u001b[39mconnect(uri) \u001b[38;5;28;01mas\u001b[39;00m ws:\n\u001b[0;32m      3\u001b[0m     new_data \u001b[38;5;241m=\u001b[39m \u001b[38;5;28;01mawait\u001b[39;00m ws\u001b[38;5;241m.\u001b[39mrecv()\n",
      "File \u001b[1;32m~\\AppData\\Roaming\\Python\\Python311\\site-packages\\websockets\\legacy\\client.py:629\u001b[0m, in \u001b[0;36mConnect.__aenter__\u001b[1;34m(self)\u001b[0m\n\u001b[0;32m    628\u001b[0m \u001b[38;5;28;01masync\u001b[39;00m \u001b[38;5;28;01mdef\u001b[39;00m \u001b[38;5;21m__aenter__\u001b[39m(\u001b[38;5;28mself\u001b[39m) \u001b[38;5;241m-\u001b[39m\u001b[38;5;241m>\u001b[39m WebSocketClientProtocol:\n\u001b[1;32m--> 629\u001b[0m     \u001b[38;5;28;01mreturn\u001b[39;00m \u001b[38;5;28;01mawait\u001b[39;00m \u001b[38;5;28mself\u001b[39m\n",
      "File \u001b[1;32m~\\AppData\\Roaming\\Python\\Python311\\site-packages\\websockets\\legacy\\client.py:647\u001b[0m, in \u001b[0;36mConnect.__await_impl_timeout__\u001b[1;34m(self)\u001b[0m\n\u001b[0;32m    645\u001b[0m \u001b[38;5;28;01masync\u001b[39;00m \u001b[38;5;28;01mdef\u001b[39;00m \u001b[38;5;21m__await_impl_timeout__\u001b[39m(\u001b[38;5;28mself\u001b[39m) \u001b[38;5;241m-\u001b[39m\u001b[38;5;241m>\u001b[39m WebSocketClientProtocol:\n\u001b[0;32m    646\u001b[0m     \u001b[38;5;28;01masync\u001b[39;00m \u001b[38;5;28;01mwith\u001b[39;00m asyncio_timeout(\u001b[38;5;28mself\u001b[39m\u001b[38;5;241m.\u001b[39mopen_timeout):\n\u001b[1;32m--> 647\u001b[0m         \u001b[38;5;28;01mreturn\u001b[39;00m \u001b[38;5;28;01mawait\u001b[39;00m \u001b[38;5;28mself\u001b[39m\u001b[38;5;241m.\u001b[39m__await_impl__()\n",
      "File \u001b[1;32m~\\AppData\\Roaming\\Python\\Python311\\site-packages\\websockets\\legacy\\client.py:654\u001b[0m, in \u001b[0;36mConnect.__await_impl__\u001b[1;34m(self)\u001b[0m\n\u001b[0;32m    652\u001b[0m protocol \u001b[38;5;241m=\u001b[39m cast(WebSocketClientProtocol, _protocol)\n\u001b[0;32m    653\u001b[0m \u001b[38;5;28;01mtry\u001b[39;00m:\n\u001b[1;32m--> 654\u001b[0m     \u001b[38;5;28;01mawait\u001b[39;00m protocol\u001b[38;5;241m.\u001b[39mhandshake(\n\u001b[0;32m    655\u001b[0m         \u001b[38;5;28mself\u001b[39m\u001b[38;5;241m.\u001b[39m_wsuri,\n\u001b[0;32m    656\u001b[0m         origin\u001b[38;5;241m=\u001b[39mprotocol\u001b[38;5;241m.\u001b[39morigin,\n\u001b[0;32m    657\u001b[0m         available_extensions\u001b[38;5;241m=\u001b[39mprotocol\u001b[38;5;241m.\u001b[39mavailable_extensions,\n\u001b[0;32m    658\u001b[0m         available_subprotocols\u001b[38;5;241m=\u001b[39mprotocol\u001b[38;5;241m.\u001b[39mavailable_subprotocols,\n\u001b[0;32m    659\u001b[0m         extra_headers\u001b[38;5;241m=\u001b[39mprotocol\u001b[38;5;241m.\u001b[39mextra_headers,\n\u001b[0;32m    660\u001b[0m     )\n\u001b[0;32m    661\u001b[0m \u001b[38;5;28;01mexcept\u001b[39;00m RedirectHandshake \u001b[38;5;28;01mas\u001b[39;00m exc:\n\u001b[0;32m    662\u001b[0m     protocol\u001b[38;5;241m.\u001b[39mfail_connection()\n",
      "File \u001b[1;32m~\\AppData\\Roaming\\Python\\Python311\\site-packages\\websockets\\legacy\\client.py:325\u001b[0m, in \u001b[0;36mWebSocketClientProtocol.handshake\u001b[1;34m(self, wsuri, origin, available_extensions, available_subprotocols, extra_headers)\u001b[0m\n\u001b[0;32m    323\u001b[0m     \u001b[38;5;28;01mraise\u001b[39;00m RedirectHandshake(response_headers[\u001b[38;5;124m\"\u001b[39m\u001b[38;5;124mLocation\u001b[39m\u001b[38;5;124m\"\u001b[39m])\n\u001b[0;32m    324\u001b[0m \u001b[38;5;28;01melif\u001b[39;00m status_code \u001b[38;5;241m!=\u001b[39m \u001b[38;5;241m101\u001b[39m:\n\u001b[1;32m--> 325\u001b[0m     \u001b[38;5;28;01mraise\u001b[39;00m InvalidStatusCode(status_code, response_headers)\n\u001b[0;32m    327\u001b[0m check_response(response_headers, key)\n\u001b[0;32m    329\u001b[0m \u001b[38;5;28mself\u001b[39m\u001b[38;5;241m.\u001b[39mextensions \u001b[38;5;241m=\u001b[39m \u001b[38;5;28mself\u001b[39m\u001b[38;5;241m.\u001b[39mprocess_extensions(\n\u001b[0;32m    330\u001b[0m     response_headers, available_extensions\n\u001b[0;32m    331\u001b[0m )\n",
      "\u001b[1;31mInvalidStatusCode\u001b[0m: server rejected WebSocket connection: HTTP 403"
     ]
    }
   ],
   "source": [
    "uri = \"ws://127.0.0.1:13374/ws\"\n",
    "async with websockets.connect(uri) as ws:\n",
    "    new_data = await ws.recv()"
   ]
  },
  {
   "cell_type": "code",
   "execution_count": 6,
   "id": "d23168c1",
   "metadata": {},
   "outputs": [],
   "source": [
    "#live data routines\n",
    "#loop is websocket connection to receive data from the orchestrator\n",
    "#update plot live plots this data as it comes in\n",
    "#init_history_plot and load_figure are subroutines of update_plot\n",
    "#much of this is adapted from https://stackoverflow.com/questions/68918341/live-update-several-plots-in-jupyter-notebook\n",
    "\n",
    "uri = \"ws://127.0.0.1:13374/ws\"\n",
    "\n",
    "async def loop(var_x,var_y): # non-blocking coroutine, updates data source\n",
    "    async with websockets.connect(uri) as ws:\n",
    "        while True:\n",
    "            new_data = await ws.recv()\n",
    "            new_data = json.loads(new_data)\n",
    "            if not isinstance(new_data,float):\n",
    "                sub_data.append(new_data)\n",
    "                update_plot(var_x,var_y)\n",
    "\n",
    "def update_plot(var_x,var_y):\n",
    "    with plot_wrapper:\n",
    "        fig, axs = load_figure(template_fig)\n",
    "        plot_wrapper.clear_output(wait=True)\n",
    "        for i in range(len(axs)):\n",
    "            axs[i].scatter([data[var_x[i]][0] for data in sub_data],[data[var_y[i]][0] for data in sub_data],s=1)\n",
    "        pyplot.show()\n",
    "\n",
    "### i need to start plotting of the data from index x\n",
    "### 3 plots instaed of 1\n",
    "        \n",
    "def init_history_plot(var_x,var_y):\n",
    "    \"\"\"\n",
    "    Create plot template (dump)\n",
    "    \n",
    "    Returns: pickled str\n",
    "    \"\"\"\n",
    "    fig, axs = pyplot.subplots(nrows=1, ncols=len(var_x), figsize=(14,4))\n",
    "    dat = pickle.dumps(fig)\n",
    "    pyplot.close()\n",
    "    return dat\n",
    "\n",
    "\n",
    "def load_figure(dump):\n",
    "    \"\"\"\n",
    "    Load Figure from dump\n",
    "    \n",
    "    Returns: (Figure, Axes)\n",
    "    \"\"\"\n",
    "    # https://github.com/ipython/ipykernel/issues/231\n",
    "    import ipykernel.pylab.backend_inline as back_inline\n",
    "    import matplotlib.backends.backend_agg as back_agg\n",
    "    back_inline.new_figure_manager_given_figure = back_agg.new_figure_manager_given_figure\n",
    "    figure = pickle.loads(dump)\n",
    "    # https://github.com/matplotlib/matplotlib/issues/17627/\n",
    "    figure._cachedRenderer = None\n",
    "    return figure, figure.axes"
   ]
  },
  {
   "cell_type": "code",
   "execution_count": null,
   "id": "42d59228",
   "metadata": {},
   "outputs": [],
   "source": [
    "#start\n",
    "#send this command to initialize the orchestrator for normal single experiments\n",
    "collectionkey = 'default'\n",
    "experiment = {'soe':['orchestrator/start'],'params':{'start':{'collectionkey':collectionkey}},'meta':{}}\n",
    "requests.post(url+'/orchestrator/addExperiment',params = {'experiment':json.dumps(experiment)})"
   ]
  },
  {
   "cell_type": "code",
   "execution_count": null,
   "id": "5c9bf1ad",
   "metadata": {},
   "outputs": [],
   "source": [
    "#finish\n",
    "#send this command to shut down the orchestrator for those\n",
    "experiment = {'soe':['orchestrator/finish'],'params':{'finish':None},'meta':{}}\n",
    "requests.post(url+'/orchestrator/addExperiment',params = {'experiment':json.dumps(experiment)})"
   ]
  },
  {
   "cell_type": "code",
   "execution_count": null,
   "id": "46e8c112",
   "metadata": {},
   "outputs": [],
   "source": [
    "#emergency functions\n",
    "thread = 0\n",
    "requests.post(url+'/orchestrator/clear',params = {'thread':thread})\n",
    "#requests.post(url+'/orchestrator/kill',params = {'thread':thread})\n",
    "#requests.post(url+'/orchestrator/pause',params = {'thread':thread})\n",
    "#requests.post(url+'/orchestrator/resume',params = {'thread':thread})"
   ]
  },
  {
   "cell_type": "code",
   "execution_count": 3,
   "id": "cfdce8f1",
   "metadata": {
    "scrolled": true
   },
   "outputs": [
    {
     "data": {
      "application/vnd.jupyter.widget-view+json": {
       "model_id": "def0f4ecfea34829b0d57f8d79b0910b",
       "version_major": 2,
       "version_minor": 0
      },
      "text/plain": [
       "Box(children=(Output(),))"
      ]
     },
     "metadata": {},
     "output_type": "display_data"
    },
    {
     "name": "stderr",
     "output_type": "stream",
     "text": [
      "Task exception was never retrieved\n",
      "future: <Task finished name='Task-5' coro=<loop() done, defined at C:\\Users\\juliu\\AppData\\Local\\Temp\\ipykernel_6740\\234167415.py:10> exception=InvalidStatusCode(403, Headers([('Date', 'Wed, 22 May 2024 15:13:22 GMT'), ('Content-Length', '0'), ('Content-Type', 'text/plain'), ('Connection', 'close')]))>\n",
      "Traceback (most recent call last):\n",
      "  File \"C:\\Users\\juliu\\AppData\\Local\\Temp\\ipykernel_6740\\234167415.py\", line 11, in loop\n",
      "    async with websockets.connect(uri) as ws:\n",
      "  File \"C:\\Users\\juliu\\AppData\\Roaming\\Python\\Python311\\site-packages\\websockets\\legacy\\client.py\", line 629, in __aenter__\n",
      "    return await self\n",
      "           ^^^^^^^^^^\n",
      "  File \"C:\\Users\\juliu\\AppData\\Roaming\\Python\\Python311\\site-packages\\websockets\\legacy\\client.py\", line 647, in __await_impl_timeout__\n",
      "    return await self.__await_impl__()\n",
      "           ^^^^^^^^^^^^^^^^^^^^^^^^^^^\n",
      "  File \"C:\\Users\\juliu\\AppData\\Roaming\\Python\\Python311\\site-packages\\websockets\\legacy\\client.py\", line 654, in __await_impl__\n",
      "    await protocol.handshake(\n",
      "  File \"C:\\Users\\juliu\\AppData\\Roaming\\Python\\Python311\\site-packages\\websockets\\legacy\\client.py\", line 325, in handshake\n",
      "    raise InvalidStatusCode(status_code, response_headers)\n",
      "websockets.exceptions.InvalidStatusCode: server rejected WebSocket connection: HTTP 403\n"
     ]
    }
   ],
   "source": [
    "#get data and start a live plotting instance\n",
    "#this sets up a websocket connection with the orchestrator and begins live plotting of received spectra\n",
    "%matplotlib inline\n",
    "asyncio.create_task(loop([\"x\"],[\"y\"]))\n",
    "plot_wrapper = ipywidgets.Output()\n",
    "template_fig = init_history_plot([\"x\"],[\"y\"])\n",
    "plot_interface = ipywidgets.Box(children=[plot_wrapper])\n",
    "plot_interface"
   ]
  },
  {
   "cell_type": "code",
   "execution_count": null,
   "id": "5907901e",
   "metadata": {},
   "outputs": [],
   "source": [
    "#default plotting method for single spectra\n",
    "def plot(data,var_x,var_y):\n",
    "    pyplot.plot([data[var_x][0] for data in sub_data],[data[var_y][0] for data in sub_data])\n",
    "    pyplot.show()"
   ]
  },
  {
   "cell_type": "code",
   "execution_count": null,
   "id": "0ff44522",
   "metadata": {},
   "outputs": [],
   "source": [
    "sub_data"
   ]
  },
  {
   "cell_type": "code",
   "execution_count": null,
   "id": "03f63ea5",
   "metadata": {},
   "outputs": [],
   "source": []
  },
  {
   "cell_type": "code",
   "execution_count": null,
   "id": "1cf94a27",
   "metadata": {},
   "outputs": [],
   "source": []
  }
 ],
 "metadata": {
  "kernelspec": {
   "display_name": "Python 3 (ipykernel)",
   "language": "python",
   "name": "python3"
  },
  "language_info": {
   "codemirror_mode": {
    "name": "ipython",
    "version": 3
   },
   "file_extension": ".py",
   "mimetype": "text/x-python",
   "name": "python",
   "nbconvert_exporter": "python",
   "pygments_lexer": "ipython3",
   "version": "3.11.7"
  }
 },
 "nbformat": 4,
 "nbformat_minor": 5
}
