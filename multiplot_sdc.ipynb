{
 "cells": [
  {
   "cell_type": "code",
   "execution_count": null,
   "metadata": {},
   "outputs": [],
   "source": [
    "#one day i may move the functionality to start and monitor servers into this document, \n",
    "# but for now, start up everything with helao_interface.py before using this code\n",
    "import requests\n",
    "import json\n",
    "from matplotlib import pyplot\n",
    "url = \"http://192.168.31.114:13380\"\n",
    "#url = \"http://127.0.0.1:13380\"\n",
    "import time\n",
    "import ipywidgets\n",
    "import numpy\n",
    "import pickle\n",
    "import asyncio\n",
    "import websockets\n",
    "sub_data = [] #holds data sent to the notebook by the orchestrator"
   ]
  },
  {
   "cell_type": "code",
   "execution_count": null,
   "metadata": {},
   "outputs": [],
   "source": [
    "#live data routines\n",
    "#loop is websocket connection to receive data from the orchestrator\n",
    "#update plot live plots this data as it comes in\n",
    "#init_history_plot and load_figure are subroutines of update_plot\n",
    "#much of this is adapted from https://stackoverflow.com/questions/68918341/live-update-several-plots-in-jupyter-notebook\n",
    "\n",
    "\n",
    "uri = \"ws://127.0.0.1:13374/ws\"\n",
    "\n",
    "async def loop(var_x,var_y): # non-blocking coroutine, updates data source\n",
    "    async with websockets.connect(uri) as ws:\n",
    "        while True:\n",
    "            new_data = await ws.recv()\n",
    "            new_data = json.loads(new_data)\n",
    "            if not isinstance(new_data,float):\n",
    "                sub_data.append(new_data)\n",
    "                update_plot(var_x,var_y)\n",
    "\n",
    "def update_plot(var_x,var_y):\n",
    "    with plot_wrapper:\n",
    "        fig, axs = load_figure(template_fig)\n",
    "        plot_wrapper.clear_output(wait=True)\n",
    "        for i in range(len(axs)):\n",
    "            axs[i].scatter([data[var_x[i]][0] for data in sub_data],[data[var_y[i]][0] for data in sub_data],s=1)\n",
    "        pyplot.show()\n",
    "\n",
    "### i need to start plotting of the data from index x\n",
    "### 3 plots instaed of 1\n",
    "        \n",
    "def init_history_plot(var_x,var_y):\n",
    "    \"\"\"\n",
    "    Create plot template (dump)\n",
    "    \n",
    "    Returns: pickled str\n",
    "    \"\"\"\n",
    "    fig, axs = pyplot.subplots(nrows=1, ncols=len(var_x), figsize=(14,4))\n",
    "    dat = pickle.dumps(fig)\n",
    "    pyplot.close()\n",
    "    return dat\n",
    "\n",
    "\n",
    "def load_figure(dump):\n",
    "    \"\"\"\n",
    "    Load Figure from dump\n",
    "    \n",
    "    Returns: (Figure, Axes)\n",
    "    \"\"\"\n",
    "    # https://github.com/ipython/ipykernel/issues/231\n",
    "    import ipykernel.pylab.backend_inline as back_inline\n",
    "    import matplotlib.backends.backend_agg as back_agg\n",
    "    back_inline.new_figure_manager_given_figure = back_agg.new_figure_manager_given_figure\n",
    "    figure = pickle.loads(dump)\n",
    "    # https://github.com/matplotlib/matplotlib/issues/17627/\n",
    "    figure._cachedRenderer = None\n",
    "    return figure, figure.axes"
   ]
  },
  {
   "cell_type": "code",
   "execution_count": null,
   "metadata": {},
   "outputs": [],
   "source": [
    "#start\n",
    "#send this command to initialize the orchestrator for normal single experiments\n",
    "collectionkey = 'default'\n",
    "experiment = {'soe':['orchestrator/start'],'params':{'start':{'collectionkey':collectionkey}},'meta':{}}\n",
    "requests.post(url+'/orchestrator/addExperiment',params = {'experiment':json.dumps(experiment)})"
   ]
  },
  {
   "cell_type": "code",
   "execution_count": null,
   "metadata": {},
   "outputs": [],
   "source": [
    "#finish\n",
    "#send this command to shut down the orchestrator for those\n",
    "experiment = {'soe':['orchestrator/finish'],'params':{'finish':None},'meta':{}}\n",
    "requests.post(url+'/orchestrator/addExperiment',params = {'experiment':json.dumps(experiment)})"
   ]
  },
  {
   "cell_type": "code",
   "execution_count": null,
   "metadata": {},
   "outputs": [],
   "source": [
    "#emergency functions\n",
    "thread = 0\n",
    "requests.post(url+'/orchestrator/clear',params = {'thread':thread})\n",
    "#requests.post(url+'/orchestrator/kill',params = {'thread':thread})\n",
    "#requests.post(url+'/orchestrator/pause',params = {'thread':thread})\n",
    "#requests.post(url+'/orchestrator/resume',params = {'thread':thread})"
   ]
  },
  {
   "cell_type": "code",
   "execution_count": null,
   "metadata": {
    "scrolled": true
   },
   "outputs": [],
   "source": [
    "#get data and start a live plotting instance\n",
    "#this sets up a websocket connection with the orchestrator and begins live plotting of received spectra\n",
    "%matplotlib inline\n",
    "asyncio.create_task(loop([\"t_s\",\"Ewe_V\",\"Z_real\"],[\"Ewe_V\",\"I_A\",\"Z_imag\"]))\n",
    "plot_wrapper = ipywidgets.Output()\n",
    "template_fig = init_history_plot([\"t_s\",\"Ewe_V\",\"Z_real\"],[\"Ewe_V\",\"I_A\",\"Z_imag\"])\n",
    "plot_interface = ipywidgets.Box(children=[plot_wrapper])\n",
    "plot_interface"
   ]
  },
  {
   "cell_type": "code",
   "execution_count": null,
   "metadata": {},
   "outputs": [],
   "source": [
    "#default plotting method for single spectra\n",
    "def plot(data,var_x,var_y):\n",
    "    pyplot.plot([data[var_x][0] for data in sub_data],[data[var_y][0] for data in sub_data])\n",
    "    pyplot.show()"
   ]
  },
  {
   "cell_type": "code",
   "execution_count": null,
   "metadata": {},
   "outputs": [],
   "source": [
    "sub_data"
   ]
  },
  {
   "cell_type": "code",
   "execution_count": null,
   "metadata": {},
   "outputs": [],
   "source": []
  },
  {
   "cell_type": "code",
   "execution_count": null,
   "metadata": {},
   "outputs": [],
   "source": []
  }
 ],
 "metadata": {
  "kernelspec": {
   "display_name": "Python 3",
   "language": "python",
   "name": "python3"
  },
  "language_info": {
   "codemirror_mode": {
    "name": "ipython",
    "version": 3
   },
   "file_extension": ".py",
   "mimetype": "text/x-python",
   "name": "python",
   "nbconvert_exporter": "python",
   "pygments_lexer": "ipython3",
   "version": "3.8.3"
  }
 },
 "nbformat": 4,
 "nbformat_minor": 5
}
